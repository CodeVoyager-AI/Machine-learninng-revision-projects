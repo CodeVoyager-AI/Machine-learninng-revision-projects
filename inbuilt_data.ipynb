{
  "nbformat": 4,
  "nbformat_minor": 0,
  "metadata": {
    "colab": {
      "provenance": [],
      "authorship_tag": "ABX9TyPeuO2DvvdNaQ06fkCgS5mn",
      "include_colab_link": true
    },
    "kernelspec": {
      "name": "python3",
      "display_name": "Python 3"
    },
    "language_info": {
      "name": "python"
    }
  },
  "cells": [
    {
      "cell_type": "markdown",
      "metadata": {
        "id": "view-in-github",
        "colab_type": "text"
      },
      "source": [
        "<a href=\"https://colab.research.google.com/github/CodeVoyager-AI/Machine-learninng-revision-projects/blob/main/inbuilt_data.ipynb\" target=\"_parent\"><img src=\"https://colab.research.google.com/assets/colab-badge.svg\" alt=\"Open In Colab\"/></a>"
      ]
    },
    {
      "cell_type": "code",
      "execution_count": 1,
      "metadata": {
        "id": "SbmTmxi8nyWU"
      },
      "outputs": [],
      "source": [
        "#sets in python\n",
        "my_set={1,2,3}\n",
        "print(my_set)"
      ]
    },
    {
      "cell_type": "code",
      "source": [
        "print(type(my_set))\n",
        "my_set={1,1,2,30}\n",
        "my_set\n",
        "#so no duplicates are allowed"
      ],
      "metadata": {
        "colab": {
          "base_uri": "https://localhost:8080/"
        },
        "id": "8qK1Xow4oVrI",
        "outputId": "eaa0586c-ffba-45da-d217-c430ff626325"
      },
      "execution_count": 4,
      "outputs": [
        {
          "output_type": "stream",
          "name": "stdout",
          "text": [
            "<class 'set'>\n"
          ]
        },
        {
          "output_type": "execute_result",
          "data": {
            "text/plain": [
              "{1, 2, 30}"
            ]
          },
          "metadata": {},
          "execution_count": 4
        }
      ]
    },
    {
      "cell_type": "code",
      "source": [
        "my_set.add(23)\n",
        "my_set.add(1000)\n",
        "my_set"
      ],
      "metadata": {
        "colab": {
          "base_uri": "https://localhost:8080/"
        },
        "id": "ifY7fNAxoeVH",
        "outputId": "7c0d5554-c95a-4fee-cef2-f500129781bf"
      },
      "execution_count": 8,
      "outputs": [
        {
          "output_type": "execute_result",
          "data": {
            "text/plain": [
              "{1, 2, 23, 30, 1000}"
            ]
          },
          "metadata": {},
          "execution_count": 8
        }
      ]
    },
    {
      "cell_type": "code",
      "source": [
        "my_set.update([20,30,40])\n",
        "my_set"
      ],
      "metadata": {
        "colab": {
          "base_uri": "https://localhost:8080/"
        },
        "id": "WyU5770ipH6n",
        "outputId": "57d1ed93-63b9-4a79-fd56-357e1f32b173"
      },
      "execution_count": 9,
      "outputs": [
        {
          "output_type": "execute_result",
          "data": {
            "text/plain": [
              "{1, 2, 20, 23, 30, 40, 1000}"
            ]
          },
          "metadata": {},
          "execution_count": 9
        }
      ]
    },
    {
      "cell_type": "code",
      "source": [
        "my_set.discard(120)"
      ],
      "metadata": {
        "id": "I-fUgvmOpZ8j"
      },
      "execution_count": 10,
      "outputs": []
    },
    {
      "cell_type": "code",
      "source": [
        "#pop element\n",
        "#pop element from front\n",
        "my_set.pop()\n",
        "my_set.pop()\n",
        "my_set"
      ],
      "metadata": {
        "colab": {
          "base_uri": "https://localhost:8080/"
        },
        "id": "q7UFa3Zer1fM",
        "outputId": "9db899b0-bab1-4294-f3e3-a12dc4f33aa1"
      },
      "execution_count": 12,
      "outputs": [
        {
          "output_type": "execute_result",
          "data": {
            "text/plain": [
              "{20, 23, 30, 40}"
            ]
          },
          "metadata": {},
          "execution_count": 12
        }
      ]
    },
    {
      "cell_type": "code",
      "source": [
        "set1={1,2,3,4,5}\n",
        "set2={3,4,5,6,7}\n",
        "set3=set1.union(set2)\n",
        "print(set3)\n",
        "set4=set1.intersection(set2)\n",
        "set4"
      ],
      "metadata": {
        "colab": {
          "base_uri": "https://localhost:8080/"
        },
        "id": "BfVY0_AIr8VH",
        "outputId": "5f4cfb21-30b7-4485-e196-d12a95ce9830"
      },
      "execution_count": 15,
      "outputs": [
        {
          "output_type": "stream",
          "name": "stdout",
          "text": [
            "{1, 2, 3, 4, 5, 6, 7}\n"
          ]
        },
        {
          "output_type": "execute_result",
          "data": {
            "text/plain": [
              "{3, 4, 5}"
            ]
          },
          "metadata": {},
          "execution_count": 15
        }
      ]
    },
    {
      "cell_type": "code",
      "source": [
        "set1.intersection_update(set2)\n",
        "set1"
      ],
      "metadata": {
        "colab": {
          "base_uri": "https://localhost:8080/"
        },
        "id": "hugUyE82sU59",
        "outputId": "7d55ac16-11e0-4171-c4bf-9b572f19036c"
      },
      "execution_count": 16,
      "outputs": [
        {
          "output_type": "execute_result",
          "data": {
            "text/plain": [
              "{3, 4, 5}"
            ]
          },
          "metadata": {},
          "execution_count": 16
        }
      ]
    },
    {
      "cell_type": "code",
      "source": [
        "#now difference removes common elemnent from set1 and set2\n",
        "set1={1,2,3,4,5}\n",
        "set2={3,4,5,6,7}\n",
        "set1.difference(set2)\n",
        "#if you write _update then"
      ],
      "metadata": {
        "colab": {
          "base_uri": "https://localhost:8080/"
        },
        "id": "o9dtaP8DudN7",
        "outputId": "7a38d040-16a5-4206-ce90-029edadf38c6"
      },
      "execution_count": 19,
      "outputs": [
        {
          "output_type": "execute_result",
          "data": {
            "text/plain": [
              "{1, 2}"
            ]
          },
          "metadata": {},
          "execution_count": 19
        }
      ]
    },
    {
      "cell_type": "markdown",
      "source": [
        "# Dictionary"
      ],
      "metadata": {
        "id": "V2Zbg00PvXCa"
      }
    },
    {
      "cell_type": "code",
      "source": [
        "#create an empty dictionary key-value pair\n",
        "empty_dict={}\n",
        "\n",
        "empty_dict=dict()"
      ],
      "metadata": {
        "id": "GwUYKBXvuzwz"
      },
      "execution_count": 21,
      "outputs": []
    },
    {
      "cell_type": "code",
      "source": [
        "student={\"name\":'Heramb','age':22}\n",
        "student"
      ],
      "metadata": {
        "colab": {
          "base_uri": "https://localhost:8080/"
        },
        "id": "uUvoNb-HvaZu",
        "outputId": "f966de90-cdb2-4882-a551-dcd2ee7e0854"
      },
      "execution_count": 22,
      "outputs": [
        {
          "output_type": "execute_result",
          "data": {
            "text/plain": [
              "{'name': 'Heramb', 'age': 22}"
            ]
          },
          "metadata": {},
          "execution_count": 22
        }
      ]
    },
    {
      "cell_type": "code",
      "source": [
        "#only single key is used so and updating element\n",
        "student['age']\n",
        "student['age']=35\n",
        "print(student)\n",
        "student.get('class','Not available and fuck off')"
      ],
      "metadata": {
        "colab": {
          "base_uri": "https://localhost:8080/",
          "height": 53
        },
        "id": "99GLOOmEwIer",
        "outputId": "5dcea5d9-e74c-4d40-ede5-de28939edaf8"
      },
      "execution_count": 27,
      "outputs": [
        {
          "output_type": "stream",
          "name": "stdout",
          "text": [
            "{'name': 'Heramb', 'age': 35}\n"
          ]
        },
        {
          "output_type": "execute_result",
          "data": {
            "text/plain": [
              "'Not available and fuck off'"
            ],
            "application/vnd.google.colaboratory.intrinsic+json": {
              "type": "string"
            }
          },
          "metadata": {},
          "execution_count": 27
        }
      ]
    },
    {
      "cell_type": "code",
      "source": [
        "if(student.get('class')==None):\n",
        "    print(\"not found\")"
      ],
      "metadata": {
        "colab": {
          "base_uri": "https://localhost:8080/"
        },
        "id": "eJhW1evvwZ8Y",
        "outputId": "760b2baf-eeae-43a1-e040-655499fe6726"
      },
      "execution_count": 26,
      "outputs": [
        {
          "output_type": "stream",
          "name": "stdout",
          "text": [
            "not found\n"
          ]
        }
      ]
    },
    {
      "cell_type": "code",
      "source": [
        "#deletes the key and value pair\n",
        "del student['age']\n",
        "student\n"
      ],
      "metadata": {
        "colab": {
          "base_uri": "https://localhost:8080/"
        },
        "id": "4GFv_T-EyeeS",
        "outputId": "26968c76-5c85-4a0f-e250-277d849da580"
      },
      "execution_count": 28,
      "outputs": [
        {
          "output_type": "execute_result",
          "data": {
            "text/plain": [
              "{'name': 'Heramb'}"
            ]
          },
          "metadata": {},
          "execution_count": 28
        }
      ]
    },
    {
      "cell_type": "code",
      "source": [
        "keys_dic=student.keys()\n",
        "values_dic=student.values()\n",
        "items_dic=student.items()\n",
        "print(items_dic)\n",
        "print(keys_dic)\n",
        "print(values_dic)"
      ],
      "metadata": {
        "colab": {
          "base_uri": "https://localhost:8080/"
        },
        "id": "5rw5UxnF3ecX",
        "outputId": "154bb1a0-04a2-49cc-a040-00bb9d2f4016"
      },
      "execution_count": 30,
      "outputs": [
        {
          "output_type": "stream",
          "name": "stdout",
          "text": [
            "dict_items([('name', 'Heramb')])\n",
            "dict_keys(['name'])\n",
            "dict_values(['Heramb'])\n"
          ]
        }
      ]
    },
    {
      "cell_type": "code",
      "source": [
        "#changes in one affect both\n",
        "student_copy=student\n",
        "student_copy['name']='Anand'\n",
        "print(student_copy)\n",
        "print(student)"
      ],
      "metadata": {
        "colab": {
          "base_uri": "https://localhost:8080/"
        },
        "id": "iAj3dqUZ3-Nk",
        "outputId": "d569a1e6-0c3a-446a-9948-022023ae5f66"
      },
      "execution_count": 31,
      "outputs": [
        {
          "output_type": "stream",
          "name": "stdout",
          "text": [
            "{'name': 'Anand'}\n",
            "{'name': 'Anand'}\n"
          ]
        }
      ]
    },
    {
      "cell_type": "code",
      "source": [
        "#copy\n",
        "student={\"name\":'Heramb','age':22}\n",
        "student_copy=student.copy()\n",
        "student['name']='Anand'\n",
        "print(student_copy)\n",
        "print(student)"
      ],
      "metadata": {
        "colab": {
          "base_uri": "https://localhost:8080/"
        },
        "id": "TkRclOCt4nOJ",
        "outputId": "63588379-f66e-41d6-cce8-7a5757b095a3"
      },
      "execution_count": 33,
      "outputs": [
        {
          "output_type": "stream",
          "name": "stdout",
          "text": [
            "{'name': 'Heramb', 'age': 22}\n",
            "{'name': 'Anand', 'age': 22}\n"
          ]
        }
      ]
    },
    {
      "cell_type": "code",
      "source": [],
      "metadata": {
        "id": "KwgmjCTW46Nn"
      },
      "execution_count": null,
      "outputs": []
    }
  ]
}